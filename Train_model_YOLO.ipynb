{
  "nbformat": 4,
  "nbformat_minor": 0,
  "metadata": {
    "colab": {
      "provenance": [],
      "gpuType": "T4"
    },
    "kernelspec": {
      "name": "python3",
      "display_name": "Python 3"
    },
    "language_info": {
      "name": "python"
    },
    "accelerator": "GPU"
  },
  "cells": [
    {
      "cell_type": "code",
      "execution_count": null,
      "metadata": {
        "id": "Wo1iK7BQpOMN"
      },
      "outputs": [],
      "source": [
        "!pip install roboflow\n",
        "!pip install ultralytics"
      ]
    },
    {
      "cell_type": "code",
      "source": [
        "from roboflow import Roboflow\n",
        "rf = Roboflow(api_key=\"API_KEY_ANDA\")\n",
        "project = rf.workspace(\"dataset-lubang\").project(\"jalan-lubang-jalan-retak\")\n",
        "version = project.version(3)\n",
        "dataset = version.download(\"yolov8\")"
      ],
      "metadata": {
        "id": "_97adoVgpVBx"
      },
      "execution_count": null,
      "outputs": []
    },
    {
      "cell_type": "code",
      "source": [
        "from ultralytics import YOLO\n",
        "import os\n",
        "\n",
        "model = YOLO('yolov8n.yaml')\n",
        "\n",
        "results = model.train(\n",
        "    data=os.path.join(dataset.location, 'data.yaml'),\n",
        "    epochs=200,\n",
        "    imgsz=640,\n",
        "    batch=32,\n",
        "    optimizer='AdamW', # bisa disesuaikan kebutuhan\n",
        "    lr0=0.01,\n",
        "    lrf=0.01, n\n",
        "    name='NAMA_MODEL_ANDA'\n",
        "\n",
        ")\n",
        "\n",
        "print(\"Training selesai!\")"
      ],
      "metadata": {
        "id": "-crvtS7_pWdS"
      },
      "execution_count": null,
      "outputs": []
    }
  ]
}